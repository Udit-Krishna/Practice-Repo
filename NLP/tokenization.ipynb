{
 "cells": [
  {
   "cell_type": "code",
   "execution_count": 1,
   "metadata": {},
   "outputs": [],
   "source": [
    "import nltk"
   ]
  },
  {
   "cell_type": "code",
   "execution_count": 7,
   "metadata": {},
   "outputs": [
    {
     "name": "stdout",
     "output_type": "stream",
     "text": [
      "Hello Welcome, to my NLP Repository.\n",
      "Hope you are having a good day!\n",
      "I am just trying to learn more about NLP and ML.\n",
      "\n"
     ]
    }
   ],
   "source": [
    "corpus = \"\"\"Hello Welcome, to my NLP Repository.\n",
    "Hope you are having a good day!\n",
    "I am just trying to learn more about NLP and ML.\n",
    "\"\"\"\n",
    "print(corpus)"
   ]
  },
  {
   "cell_type": "code",
   "execution_count": 9,
   "metadata": {},
   "outputs": [
    {
     "data": {
      "text/plain": [
       "['Hello Welcome, to my NLP Repository.',\n",
       " 'Hope you are having a good day!',\n",
       " 'I am just trying to learn more about NLP and ML.']"
      ]
     },
     "execution_count": 9,
     "metadata": {},
     "output_type": "execute_result"
    }
   ],
   "source": [
    "from nltk.tokenize import sent_tokenize\n",
    "\n",
    "documents = sent_tokenize(corpus)\n",
    "documents"
   ]
  },
  {
   "cell_type": "code",
   "execution_count": 13,
   "metadata": {},
   "outputs": [
    {
     "name": "stdout",
     "output_type": "stream",
     "text": [
      "['Hello', 'Welcome', ',', 'to', 'my', 'NLP', 'Repository', '.', 'Hope', 'you', 'are', 'having', 'a', 'good', 'day', '!', 'I', 'am', 'just', 'trying', 'to', 'learn', 'more', 'about', 'NLP', 'and', 'ML', '.']\n"
     ]
    }
   ],
   "source": [
    "from nltk.tokenize import word_tokenize\n",
    "\n",
    "words = word_tokenize(corpus)\n",
    "print(words)"
   ]
  },
  {
   "cell_type": "code",
   "execution_count": 14,
   "metadata": {},
   "outputs": [
    {
     "name": "stdout",
     "output_type": "stream",
     "text": [
      "['Hello', 'Welcome', ',', 'to', 'my', 'NLP', 'Repository', '.']\n",
      "['Hope', 'you', 'are', 'having', 'a', 'good', 'day', '!']\n",
      "['I', 'am', 'just', 'trying', 'to', 'learn', 'more', 'about', 'NLP', 'and', 'ML', '.']\n"
     ]
    }
   ],
   "source": [
    "for sentence in documents:\n",
    "    print(word_tokenize(sentence))"
   ]
  },
  {
   "cell_type": "code",
   "execution_count": 15,
   "metadata": {},
   "outputs": [
    {
     "name": "stdout",
     "output_type": "stream",
     "text": [
      "['Hello', 'Welcome', ',', 'to', 'my', 'NLP', 'Repository', '.', 'Hope', 'you', 'are', 'having', 'a', 'good', 'day', '!', 'I', 'am', 'just', 'trying', 'to', 'learn', 'more', 'about', 'NLP', 'and', 'ML', '.']\n"
     ]
    }
   ],
   "source": [
    "from nltk.tokenize import wordpunct_tokenize\n",
    "\n",
    "words = wordpunct_tokenize(corpus)\n",
    "print(words)"
   ]
  },
  {
   "cell_type": "code",
   "execution_count": 17,
   "metadata": {},
   "outputs": [
    {
     "name": "stdout",
     "output_type": "stream",
     "text": [
      "['Hello', 'Welcome', ',', 'to', 'my', 'NLP', 'Repository.', 'Hope', 'you', 'are', 'having', 'a', 'good', 'day', '!', 'I', 'am', 'just', 'trying', 'to', 'learn', 'more', 'about', 'NLP', 'and', 'ML', '.']\n"
     ]
    }
   ],
   "source": [
    "from nltk.tokenize import TreebankWordTokenizer\n",
    "\n",
    "tokenizer = TreebankWordTokenizer()\n",
    "print(tokenizer.tokenize(corpus))"
   ]
  }
 ],
 "metadata": {
  "kernelspec": {
   "display_name": "Python 3",
   "language": "python",
   "name": "python3"
  },
  "language_info": {
   "codemirror_mode": {
    "name": "ipython",
    "version": 3
   },
   "file_extension": ".py",
   "mimetype": "text/x-python",
   "name": "python",
   "nbconvert_exporter": "python",
   "pygments_lexer": "ipython3",
   "version": "3.10.4"
  }
 },
 "nbformat": 4,
 "nbformat_minor": 2
}
