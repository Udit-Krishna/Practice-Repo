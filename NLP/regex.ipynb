{
 "cells": [
  {
   "cell_type": "markdown",
   "metadata": {},
   "source": [
    "For reference: https://regex101.com/"
   ]
  },
  {
   "cell_type": "code",
   "execution_count": 10,
   "metadata": {},
   "outputs": [],
   "source": [
    "import re"
   ]
  },
  {
   "cell_type": "code",
   "execution_count": 11,
   "metadata": {},
   "outputs": [
    {
     "data": {
      "text/plain": [
       "['4548722486', '(345)-678-1234']"
      ]
     },
     "execution_count": 11,
     "metadata": {},
     "output_type": "execute_result"
    }
   ],
   "source": [
    "text = '''\n",
    "Elon musk's phone number is 4548722486, (345)-678-1234 call him if you have any questions about X (formerly Twitter)'s algorithm.\n",
    "'''\n",
    "\n",
    "pattern = '\\(\\d{3}\\)-\\d{3}-\\d{4}|\\d{10}'\n",
    "\n",
    "re.findall(pattern, text)"
   ]
  },
  {
   "cell_type": "code",
   "execution_count": 32,
   "metadata": {},
   "outputs": [
    {
     "data": {
      "text/plain": [
       "['Google Inc. and Summary of Significant Accounting Policies',\n",
       " 'Financial Instruments']"
      ]
     },
     "execution_count": 32,
     "metadata": {},
     "output_type": "execute_result"
    }
   ],
   "source": [
    "text = \"\"\"\n",
    "Note 1. Google Inc. and Summary of Significant Accounting Policies\n",
    "We were incorporated in California in September 1998 and re-incorporated in the State of Delaware in August 2003. We generate revenues primarily by delivering relevant, cost-effective online advertising.\n",
    "On October 29, 2014, we sold the Motorola Mobile business (Motorola Mobile) to Lenovo Group Limited (Lenovo). The financial results of Motorola Mobile are presented as net loss from discontinued operations on the Consolidated Statements of Income for the three and nine months ended September 30, 2014. See Note 8 for further discussion of the sale.\n",
    "On August 10, 2015, we announced plans to create a new public holding company, Alphabet Inc. (Alphabet), and a new operating structure. On October 2, 2015, we announced the implementation of the holding company reorganization, in which Alphabet became the successor issuer to Google.\n",
    "Basis of Consolidation\n",
    "The consolidated financial statements include the accounts of Google Inc. and our subsidiaries. All intercompany balances and transactions have been eliminated.\n",
    "Unaudited Interim Financial Information\n",
    "The accompanying Consolidated Balance Sheet as of September 30, 2015, the Consolidated Statements of Income for the three and nine months ended September 30, 2014 and 2015, the Consolidated Statements of Comprehensive Income for the three and nine months ended September 30, 2014 and 2015, and the Consolidated Statements of Cash Flows for the nine months ended September 30, 2014 and 2015 are unaudited. These unaudited interim consolidated financial statements have been prepared in accordance with generally accepted accounting principles in the United States (GAAP). In our opinion, the unaudited interim consolidated financial statements include all adjustments of a normal recurring nature necessary for the fair presentation of our financial position as of September 30, 2015, our results of operations for the three and nine months ended September 30, 2014 and 2015, and our cash flows for the nine months ended September 30, 2014 and 2015. The results of operations for the three and nine months ended September 30, 2015 are not necessarily indicative of the results to be expected for the year ending December 31, 2015.\n",
    "These unaudited interim consolidated financial statements should be read in conjunction with the consolidated financial statements and related notes included in our Annual Report on Form 10-K for the fiscal year ended December 31, 2014, filed with the SEC on February 6, 2015.\n",
    "Use of Estimates\n",
    "The preparation of consolidated financial statements in conformity with GAAP requires us to make estimates and assumptions that affect the amounts reported and disclosed in the financial statements and the accompanying notes. Actual results could differ materially from these estimates. On an ongoing basis, we evaluate our estimates, including those related to the accounts receivable and sales allowances, fair values of financial instruments, intangible assets and goodwill, useful lives of intangible assets and property and equipment, income taxes, and contingent liabilities, among others. We base our estimates on historical experience and on various other assumptions that are believed to be reasonable, the results of which form the basis for making judgments about the carrying values of assets and liabilities.\n",
    "Recent Accounting Pronouncements\n",
    "In May 2014, the Financial Accounting Standards Board (FASB) issued Accounting Standards Update No. 2014-09 (ASU 2014-09) \"Revenue from Contracts with Customers.\" ASU 2014-09 supersedes the revenue recognition requirements in “Revenue Recognition (Topic 605)”, and requires entities to recognize revenue when it transfers promised goods or services to customers in an amount that reflects the consideration to which the entity expects to be entitled to in exchange for those goods or services. As currently issued and amended, ASU 2014-09 is effective for annual reporting periods beginning after December 15, 2017, including interim periods within that reporting period, though early adoption is permitted for annual reporting periods beginning after December 15, 2016. We are currently in the process of evaluating the impact of the adoption of ASU 2014-09 on our consolidated financial statements.\n",
    "In June 2014, the FASB issued Accounting Standards Update No. 2014-10 (ASU 2014-10) \"Development Stage Entities (Topic 915): Elimination of Certain Financial Reporting Requirements, Including an Amendment to Variable\n",
    "\n",
    "Interest Entities Guidance in Topic 810, Consolidation\". ASU 2014-10 removes the definition of a development stage entity from the Master Glossary of the Accounting Standards Codification (ASC) thereby removing the financial reporting distinction between development stage entities and other reporting entities. The additional elimination of related consolidation guidance will require companies with interests in development stage entities to reassess whether such entities are variable interest entities under ASC Topic 810, Consolidation. ASU 2014-10 will be applied retrospectively for annual reporting periods beginning after December 15, 2015, and interim periods therein. Early application of these amendments is permitted. We are currently in the process of evaluating the impact of the adoption of ASU 2014-10 on our consolidated financial statements.\n",
    "In February 2015, the FASB issued Accounting Standards Update No. 2015-02 (ASU 2015-02) \"Consolidation (Topic 810): Amendments to the Consolidation Analysis.\" ASU 2015-02 changes the analysis that a reporting entity must perform to determine whether it should consolidate certain types of legal entities. It is effective for annual reporting periods, and interim periods within those years, beginning after December 15, 2015. Early adoption is permitted, including adoption in an interim period. We are currently in the process of evaluating the impact of the adoption of ASU 2015-02 on our consolidated financial statements.\n",
    "Revision of Previously Issued Financial Statements\n",
    "In the second quarter of 2015, we identified an incorrect classification of certain revenues between legal entities, and as a consequence, we revised our income tax expense for periods beginning in 2008 through the first quarter of 2015 in the cumulative amount of $711 million. We evaluated the materiality of the income tax expense impact quantitatively and qualitatively and concluded it was not material to any of the prior periods impacted and that correction of income tax expense as an out of period adjustment in the quarter ended June 30, 2015 would not be material to our consolidated financial statements for the year ending December 31, 2015. Consolidated revenues are not impacted. We elected to revise previously issued consolidated financial statements for the periods impacted. Refer to Note 15 for additional information.\n",
    "Note 2. Financial Instruments\n",
    "Fair Value Measurements\n",
    "We measure our cash equivalents, marketable securities, foreign currency and interest rate derivative contracts, and non-marketable debt securities at fair value on a recurring basis. Fair value is an exit price, representing the amount that would be received to sell an asset or paid to transfer a liability in an orderly transaction between market participants. As such, fair value is a market-based measurement that is determined based on assumptions that market participants would use in pricing an asset or a liability. Assets and liabilities recorded at fair value are measured and classified in accordance with a three-tier fair value hierarchy based on the observability of the inputs available in the market used to measure fair value:\n",
    "Level 1 - Observable inputs that reflect quoted prices (unadjusted) for identical assets or liabilities in active markets.\n",
    "Level 2 - Inputs that are based upon quoted prices for similar instruments in active markets, quoted prices for identical or similar instruments in markets that are not active, and model-based valuation techniques for which all significant inputs are observable in the market or can be derived from observable market data. Where applicable, these models project future cash flows and discount the future amounts to a present value using market-based observable inputs including interest rate curves, foreign exchange rates, and credit ratings.\n",
    "Level 3 - Unobservable inputs that are supported by little or no market activities.\n",
    "The fair value hierarchy requires an entity to maximize the use of observable inputs and minimize the use of unobservable inputs when measuring fair value.\n",
    "We classify our cash equivalents and marketable securities within Level 1 or Level 2 because we use quoted market prices or alternative pricing sources and models utilizing market observable inputs to determine their fair value. We classify our foreign currency and interest rate derivative contracts primarily within Level 2 as the valuation inputs are based on quoted prices and market observable data of similar instruments. We classify our non-marketable investments within Level 3 as the valuation inputs are not observable in an active market.\n",
    "\"\"\"\n",
    "\n",
    "pattern = r'\\nNote \\d. ([^\\n]*)'\n",
    "\n",
    "re.findall(pattern, text)"
   ]
  },
  {
   "cell_type": "code",
   "execution_count": 41,
   "metadata": {},
   "outputs": [
    {
     "data": {
      "text/plain": [
       "['2021 Q1', '2020 Q4', '2023 q1']"
      ]
     },
     "execution_count": 41,
     "metadata": {},
     "output_type": "execute_result"
    }
   ],
   "source": [
    "text =\"\"\"\n",
    "The gross cost of operating lease vehicles in FY2021 Q1 was $4.85 billion.\n",
    "Tesla's employee count was 6900 in the same year.\n",
    "In the previous year i.e. FY2020 Q4 it was $3 billion.\n",
    "Lets have a dummy value to fool the RE - FY2020 Q5 and fy2023 q1\"\"\"\n",
    "\n",
    "pattern = r\"FY(\\d{4} Q[1-4])\"\n",
    "\n",
    "re.findall(pattern,text, flags=re.IGNORECASE)"
   ]
  },
  {
   "cell_type": "code",
   "execution_count": 46,
   "metadata": {},
   "outputs": [
    {
     "data": {
      "text/plain": [
       "['4.85', '3']"
      ]
     },
     "execution_count": 46,
     "metadata": {},
     "output_type": "execute_result"
    }
   ],
   "source": [
    "text =\"\"\"\n",
    "The gross cost of operating lease vehicles in FY2021 Q1 was $4.85 billion.\n",
    "Tesla's employee count was 6900 in the same year.\n",
    "In the previous year i.e. FY2020 Q4 it was $3 billion.\n",
    "Lets have a dummy value to fool the RE - FY2020 Q5 and fy2023 q1\"\"\"\n",
    "\n",
    "pattern = r\"\\$([0-9\\.]+)\"\n",
    "\n",
    "re.findall(pattern,text)"
   ]
  },
  {
   "cell_type": "code",
   "execution_count": 47,
   "metadata": {},
   "outputs": [
    {
     "data": {
      "text/plain": [
       "[('2021 Q1', '4.85'), ('2020 Q4', '3')]"
      ]
     },
     "execution_count": 47,
     "metadata": {},
     "output_type": "execute_result"
    }
   ],
   "source": [
    "text =\"\"\"\n",
    "The gross cost of operating lease vehicles in FY2021 Q1 was $4.85 billion.\n",
    "Tesla's employee count was 6900 in the same year.\n",
    "In the previous year i.e. FY2020 Q4 it was $3 billion.\n",
    "Lets have a dummy value to fool the RE - FY2020 Q5 and fy2023 q1\"\"\"\n",
    "\n",
    "pattern = r\"FY(\\d{4} Q[1-4])[^\\$]+\\$([0-9\\.]+)\"\n",
    "\n",
    "re.findall(pattern,text)"
   ]
  },
  {
   "cell_type": "code",
   "execution_count": 49,
   "metadata": {},
   "outputs": [
    {
     "data": {
      "text/plain": [
       "['elonmusk', 'teslarati', 'dummy_tesla', 'dummy_2_tesla']"
      ]
     },
     "execution_count": 49,
     "metadata": {},
     "output_type": "execute_result"
    }
   ],
   "source": [
    "text = '''\n",
    "Follow our leader Elon musk on twitter here: https://twitter.com/elonmusk, more information \n",
    "on Tesla's products can be found at https://www.tesla.com/. Also here are leading influencers \n",
    "for tesla related news,\n",
    "https://twitter.com/teslarati\n",
    "https://twitter.com/dummy_tesla\n",
    "https://twitter.com/dummy_2_tesla\n",
    "'''\n",
    "pattern = 'twitter.com/([\\w]+)'\n",
    "\n",
    "re.findall(pattern, text)"
   ]
  },
  {
   "cell_type": "code",
   "execution_count": 56,
   "metadata": {},
   "outputs": [
    {
     "data": {
      "text/plain": [
       "['Credit Risk', 'Supply Risk']"
      ]
     },
     "execution_count": 56,
     "metadata": {},
     "output_type": "execute_result"
    }
   ],
   "source": [
    "text = '''\n",
    "Concentration of Risk: Credit Risk\n",
    "Financial instruments that potentially subject us to a concentration of credit risk consist of cash, cash equivalents, marketable securities,\n",
    "restricted cash, accounts receivable, convertible note hedges, and interest rate swaps. Our cash balances are primarily invested in money market funds\n",
    "or on deposit at high credit quality financial institutions in the U.S. These deposits are typically in excess of insured limits. As of September 30, 2021\n",
    "and December 31, 2020, no entity represented 10% or more of our total accounts receivable balance. The risk of concentration for our convertible note\n",
    "hedges and interest rate swaps is mitigated by transacting with several highly-rated multinational banks.\n",
    "Concentration of Risk: Supply Risk\n",
    "We are dependent on our suppliers, including single source suppliers, and the inability of these suppliers to deliver necessary components of our\n",
    "products in a timely manner at prices, quality levels and volumes acceptable to us, or our inability to efficiently manage these components from these\n",
    "suppliers, could have a material adverse effect on our business, prospects, financial condition and operating results.\n",
    "'''\n",
    "pattern = 'Concentration of Risk: ([^\\n]+)'\n",
    "\n",
    "re.findall(pattern, text)"
   ]
  },
  {
   "cell_type": "code",
   "execution_count": 59,
   "metadata": {},
   "outputs": [
    {
     "data": {
      "text/plain": [
       "['abc@xyz.com']"
      ]
     },
     "execution_count": 59,
     "metadata": {},
     "output_type": "execute_result"
    }
   ],
   "source": [
    "text = 'codebasics: you ask lot of questions 😠  1235678912, abc@xyz.com'\n",
    "\n",
    "pattern = r\"[a-zA-Z0-9_]*@[a-z]*\\.[a-z]*\"\n",
    "\n",
    "re.findall(pattern,text)"
   ]
  },
  {
   "cell_type": "code",
   "execution_count": 64,
   "metadata": {},
   "outputs": [
    {
     "data": {
      "text/plain": [
       "['1235678912', '(123)-456-9999']"
      ]
     },
     "execution_count": 64,
     "metadata": {},
     "output_type": "execute_result"
    }
   ],
   "source": [
    "text = 'codebasics: you ask lot of questions 😠  1235678912, abc@xyz.com, alternate contact: (123)-456-9999'\n",
    "\n",
    "pattern = r\"\\d{10}|\\(\\d{3}\\)-\\d{3}-\\d{4}\"\n",
    "\n",
    "re.findall(pattern,text)"
   ]
  },
  {
   "cell_type": "code",
   "execution_count": 65,
   "metadata": {},
   "outputs": [
    {
     "data": {
      "text/plain": [
       "['50']"
      ]
     },
     "execution_count": 65,
     "metadata": {},
     "output_type": "execute_result"
    }
   ],
   "source": [
    "text = \"\"\"\n",
    "Born\tElon Reeve Musk\n",
    "June 28, 1971 (age 50)\n",
    "Pretoria, Transvaal, South Africa\n",
    "Citizenship\t\n",
    "South Africa (1971–present)\n",
    "Canada (1971–present)\n",
    "United States (2002–present)\n",
    "Education\tUniversity of Pennsylvania (BS, BA)\n",
    "Title\t\n",
    "Founder, CEO and Chief Engineer of SpaceX\n",
    "CEO and product architect of Tesla, Inc.\n",
    "Founder of The Boring Company and X.com (now part of PayPal)\n",
    "Co-founder of Neuralink, OpenAI, and Zip2\n",
    "Spouse(s)\t\n",
    "Justine Wilson\n",
    "​\n",
    "​(m. 2000; div. 2008)​\n",
    "Talulah Riley\n",
    "​\n",
    "​(m. 2010; div. 2012)​\n",
    "​\n",
    "​(m. 2013; div. 2016)\"\"\"\n",
    "\n",
    "pattern = r\"age (\\d+)\"\n",
    "\n",
    "re.findall(pattern, text)"
   ]
  },
  {
   "cell_type": "code",
   "execution_count": 66,
   "metadata": {},
   "outputs": [
    {
     "data": {
      "text/plain": [
       "['Elon Reeve Musk']"
      ]
     },
     "execution_count": 66,
     "metadata": {},
     "output_type": "execute_result"
    }
   ],
   "source": [
    "pattern = r\"Born[\\t]([^\\n]+)\"\n",
    "\n",
    "re.findall(pattern, text)"
   ]
  },
  {
   "cell_type": "code",
   "execution_count": 70,
   "metadata": {},
   "outputs": [
    {
     "data": {
      "text/plain": [
       "'June 28, 1971'"
      ]
     },
     "execution_count": 70,
     "metadata": {},
     "output_type": "execute_result"
    }
   ],
   "source": [
    "pattern = r\"Born[\\t][^\\n]+[\\n]([^(]+)\"\n",
    "\n",
    "re.findall(pattern, text)[0].strip()"
   ]
  },
  {
   "cell_type": "code",
   "execution_count": 71,
   "metadata": {},
   "outputs": [
    {
     "data": {
      "text/plain": [
       "'Pretoria, Transvaal, South Africa'"
      ]
     },
     "execution_count": 71,
     "metadata": {},
     "output_type": "execute_result"
    }
   ],
   "source": [
    "pattern = r\"Born[\\t][^\\n]+[\\n][^\\n]+[\\n]([^\\n]+)\"\n",
    "\n",
    "re.findall(pattern, text)[0].strip()"
   ]
  },
  {
   "cell_type": "code",
   "execution_count": 74,
   "metadata": {},
   "outputs": [
    {
     "data": {
      "text/plain": [
       "{'name': 'Elon Reeve Musk',\n",
       " 'age': '50',\n",
       " 'birthdate': 'June 28, 1971',\n",
       " 'birthplace': 'Pretoria, Transvaal, South Africa'}"
      ]
     },
     "execution_count": 74,
     "metadata": {},
     "output_type": "execute_result"
    }
   ],
   "source": [
    "def get_info():\n",
    "    name = re.findall(r\"Born[\\t]([^\\n]+)\", text)[0]\n",
    "    age = re.findall(r\"age (\\d+)\", text)[0]\n",
    "    birthdate = re.findall(r\"Born[\\t][^\\n]+[\\n]([^(]+)\", text)[0].strip()\n",
    "    birthplace = re.findall(r\"Born[\\t][^\\n]+[\\n][^\\n]+[\\n]([^\\n]+)\", text)[0].strip()\n",
    "    return {\n",
    "        \"name\" : name,\n",
    "        \"age\" : age,\n",
    "        \"birthdate\" : birthdate,\n",
    "        \"birthplace\" : birthplace\n",
    "    }\n",
    "\n",
    "get_info()"
   ]
  }
 ],
 "metadata": {
  "kernelspec": {
   "display_name": "Python 3",
   "language": "python",
   "name": "python3"
  },
  "language_info": {
   "codemirror_mode": {
    "name": "ipython",
    "version": 3
   },
   "file_extension": ".py",
   "mimetype": "text/x-python",
   "name": "python",
   "nbconvert_exporter": "python",
   "pygments_lexer": "ipython3",
   "version": "3.10.4"
  }
 },
 "nbformat": 4,
 "nbformat_minor": 2
}
